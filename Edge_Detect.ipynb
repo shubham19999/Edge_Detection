{
 "cells": [
  {
   "cell_type": "code",
   "execution_count": 1,
   "metadata": {},
   "outputs": [],
   "source": [
    "# import the necessary packages\n",
    "import cv2\n",
    "import os"
   ]
  },
  {
   "cell_type": "code",
   "execution_count": 2,
   "metadata": {},
   "outputs": [],
   "source": [
    "class CropLayer(object):\n",
    "    def __init__(self, params, blobs):\n",
    "        # initialize our starting and ending (x, y)-coordinates of the crop\n",
    "        self.startX = 0\n",
    "        self.startY = 0\n",
    "        self.endX = 0\n",
    "        self.endY = 0"
   ]
  },
  {
   "cell_type": "code",
   "execution_count": 3,
   "metadata": {},
   "outputs": [],
   "source": [
    "def getMemoryShapes(self, inputs):\n",
    "        # the crop layer will receive two inputs -- we need to crop\n",
    "        # the first input blob to match the shape of the second one, keeping the batch size and number of channels\n",
    "        (inputShape, targetShape) = (inputs[0], inputs[1])\n",
    "        (batchSize, numChannels) = (inputShape[0], inputShape[1])\n",
    "        (H, W) = (targetShape[2], targetShape[3])\n",
    " \n",
    "        # compute the starting and ending crop coordinates\n",
    "        self.startX = int((inputShape[3] - targetShape[3]) / 2)\n",
    "        self.startY = int((inputShape[2] - targetShape[2]) / 2)\n",
    "        self.endX = self.startX + W\n",
    "        self.endY = self.startY + H\n",
    " \n",
    "        # return the shape of the volume (we'll perform the actual crop during the forward pass\n",
    "        return [[batchSize, numChannels, H, W]]"
   ]
  },
  {
   "cell_type": "code",
   "execution_count": 4,
   "metadata": {},
   "outputs": [],
   "source": [
    "def forward(self, inputs):\n",
    "        # use the derived (x, y)-coordinates to perform the crop\n",
    "        return [inputs[0][:, :, self.startY:self.endY,\n",
    "                self.startX:self.endX]]"
   ]
  },
  {
   "cell_type": "code",
   "execution_count": 5,
   "metadata": {},
   "outputs": [
    {
     "name": "stdout",
     "output_type": "stream",
     "text": [
      "[INFO] loading edge detector...\n"
     ]
    }
   ],
   "source": [
    "# load our serialized edge detector from disk\n",
    "print(\"[INFO] loading edge detector...\")\n",
    "protoPath = \"C:/Users/DELL/Desktop/jupyter notebook/OpenCV/holistically-nested-edge-detection/hed_model/deploy.prototxt\"\n",
    "modelPath = \"C:/Users/DELL/Desktop/jupyter notebook/OpenCV/holistically-nested-edge-detection/hed_model/hed_pretrained_bsds.caffemodel\"\n",
    "net = cv2.dnn.readNetFromCaffe(protoPath, modelPath)\n",
    " \n",
    "# register our new layer with the model cv2.dnn_registerLayer(\"Crop\", CropLayer)"
   ]
  },
  {
   "cell_type": "code",
   "execution_count": 6,
   "metadata": {},
   "outputs": [
    {
     "name": "stdout",
     "output_type": "stream",
     "text": [
      "[INFO] performing Canny edge detection...\n"
     ]
    }
   ],
   "source": [
    "# load the input image and grab its dimensions\n",
    "image = cv2.imread(\"C:/Users/DELL/Desktop/jupyter notebook/OpenCV/holistically-nested-edge-detection/images/cat.jpg\")\n",
    "(H, W) = image.shape[:2]\n",
    " \n",
    "# convert the image to grayscale, blur it, and perform Canny\n",
    "# edge detection\n",
    "print(\"[INFO] performing Canny edge detection...\")\n",
    "gray = cv2.cvtColor(image, cv2.COLOR_BGR2GRAY)\n",
    "blurred = cv2.GaussianBlur(gray, (5, 5), 0)\n",
    "canny = cv2.Canny(blurred, 30, 150)"
   ]
  },
  {
   "cell_type": "code",
   "execution_count": null,
   "metadata": {},
   "outputs": [
    {
     "name": "stdout",
     "output_type": "stream",
     "text": [
      "[INFO] performing holistically-nested edge detection...\n"
     ]
    }
   ],
   "source": [
    " #construct a blob out of the input image for the Holistically-Nested\n",
    "# Edge Detector\n",
    "blob = cv2.dnn.blobFromImage(image, scalefactor=1.0, size=(W, H), mean=(104.00698793, 116.66876762, 122.67891434),\n",
    "    swapRB=False, crop=False)\n",
    " \n",
    "# set the blob as the input to the network and perform a forward pass\n",
    "# to compute the edges\n",
    "print(\"[INFO] performing holistically-nested edge detection...\")\n",
    "net.setInput(blob)\n",
    "hed = net.forward()\n",
    "hed = cv2.resize(hed[0, 0], (W, H))\n",
    "hed = (255 * hed).astype(\"uint8\")\n",
    " \n",
    "# show the output edge detection results for Canny and\n",
    "# Holistically-Nested Edge Detection\n",
    "cv2.imshow(\"Input\", image)\n",
    "cv2.imshow(\"Canny\", canny)\n",
    "cv2.imshow(\"HED\", hed)\n",
    "cv2.waitKey(0)"
   ]
  },
  {
   "cell_type": "code",
   "execution_count": null,
   "metadata": {},
   "outputs": [],
   "source": []
  }
 ],
 "metadata": {
  "kernelspec": {
   "display_name": "Python 3",
   "language": "python",
   "name": "python3"
  },
  "language_info": {
   "codemirror_mode": {
    "name": "ipython",
    "version": 3
   },
   "file_extension": ".py",
   "mimetype": "text/x-python",
   "name": "python",
   "nbconvert_exporter": "python",
   "pygments_lexer": "ipython3",
   "version": "3.6.4"
  }
 },
 "nbformat": 4,
 "nbformat_minor": 2
}
